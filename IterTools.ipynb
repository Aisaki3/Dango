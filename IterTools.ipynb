{
 "cells": [
  {
   "cell_type": "code",
   "execution_count": null,
   "metadata": {},
   "outputs": [],
   "source": [
    "# itertools.product()\n",
    "\n",
    "from itertools import product\n",
    "A = list(map(int, input().split()))\n",
    "B = list(map(int, input().split()))\n",
    "my_list = product(A,B)\n",
    "my_string = \" \".join(str(i) for i in my_list)\n",
    "print(my_string)"
   ]
  },
  {
   "cell_type": "code",
   "execution_count": null,
   "metadata": {},
   "outputs": [],
   "source": [
    "# itertools.permutations()\n",
    "\n",
    "from itertools import permutations\n",
    "\n",
    "a, b = input().split()\n",
    "l = sorted(list(permutations(a, int(b))))\n",
    "\n",
    "for x in l:\n",
    "    a = \"\".join(x)\n",
    "    print(a)"
   ]
  },
  {
   "cell_type": "code",
   "execution_count": null,
   "metadata": {},
   "outputs": [],
   "source": [
    "# itertools.combinations()\n",
    "\n",
    "from itertools import combinations\n",
    "a, b = input().split()\n",
    "a = ''.join(sorted(a))\n",
    "c1 = 1\n",
    "c2 = 0\n",
    "my_list1 = []\n",
    "my_list2 = []\n",
    "for x in range(0,int(b)):\n",
    "    while c1 <= int(b):\n",
    "        e = list(combinations(a, c1))\n",
    "        my_list1.append(e)\n",
    "        c1 += 1\n",
    "    else:\n",
    "        pass\n",
    "while c2 < int(b):\n",
    "    for k in my_list1[c2]:\n",
    "        a = \"\".join(k)\n",
    "        my_list2.append(a)\n",
    "    else:\n",
    "        pass\n",
    "    c2 += 1\n",
    "for k in my_list2:\n",
    "    print(k)"
   ]
  },
  {
   "cell_type": "code",
   "execution_count": null,
   "metadata": {},
   "outputs": [],
   "source": [
    "# itertools.combinations_with_replacement()\n",
    "\n",
    "from itertools import combinations_with_replacement\n",
    "\n",
    "a, b = input().split()\n",
    "l = sorted(list(combinations_with_replacement(sorted(a), int(b))))\n",
    "\n",
    "for x in l:\n",
    "    a = \"\".join(x)\n",
    "    print(a)"
   ]
  }
 ],
 "metadata": {
  "kernelspec": {
   "display_name": "Python 3",
   "language": "python",
   "name": "python3"
  },
  "language_info": {
   "codemirror_mode": {
    "name": "ipython",
    "version": 3
   },
   "file_extension": ".py",
   "mimetype": "text/x-python",
   "name": "python",
   "nbconvert_exporter": "python",
   "pygments_lexer": "ipython3",
   "version": "3.7.6"
  }
 },
 "nbformat": 4,
 "nbformat_minor": 4
}
