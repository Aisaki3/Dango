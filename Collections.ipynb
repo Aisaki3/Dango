{
 "cells": [
  {
   "cell_type": "code",
   "execution_count": null,
   "metadata": {},
   "outputs": [],
   "source": [
    "# collections.Counter()\n",
    "\n",
    "from collections import Counter\n",
    "n = input()\n",
    "mon = 0\n",
    "shoes = map(int, input().split())\n",
    "C = Counter(shoes)\n",
    "customer = int(input())\n",
    "for i in range(0,customer):\n",
    "    s, m = map(int, input().split())\n",
    "    if C[s] > 0:\n",
    "        mon += m\n",
    "        C[s] = C[s]-1\n",
    "    else:\n",
    "        pass\n",
    "\n",
    "print(mon)"
   ]
  },
  {
   "cell_type": "code",
   "execution_count": null,
   "metadata": {},
   "outputs": [],
   "source": [
    "# collections.namedtuple()\n",
    "\n",
    "from collections import namedtuple\n",
    "s_num = int(input())\n",
    "s_tup = namedtuple('s_tup',input())\n",
    "s_val = []\n",
    "for i in range(0,s_num):\n",
    "    x = input().split()\n",
    "    s_val.append(s_tup(*x))\n",
    "a = 0\n",
    "for i in range(0,s_num):\n",
    "    a += int(s_val[i].MARKS)\n",
    "print(a/s_num)"
   ]
  },
  {
   "cell_type": "code",
   "execution_count": null,
   "metadata": {},
   "outputs": [],
   "source": [
    "# collections.OrderedDict()\n",
    "\n",
    "from collections import OrderedDict\n",
    "n = int(input())\n",
    "grocery = OrderedDict()\n",
    "for i in range(0,n):\n",
    "    inp = input().split()\n",
    "    a = ' '.join(inp[:-1])\n",
    "    v = inp[-1]\n",
    "    if a in grocery:\n",
    "        grocery[a] = grocery[a] + int(v)\n",
    "    else:\n",
    "        grocery[a] = int(v)\n",
    "for k in grocery:\n",
    "    print(k,grocery[k])"
   ]
  },
  {
   "cell_type": "code",
   "execution_count": null,
   "metadata": {},
   "outputs": [],
   "source": [
    "# collections.deque()\n",
    "\n",
    "from collections import deque\n",
    "d = deque()\n",
    "for i in range(int(input())):\n",
    "    oper = input().split()\n",
    "    if len(oper) > 1:\n",
    "        getattr(d, oper[0])(*oper[1])\n",
    "    else:\n",
    "        getattr(d, oper[0])()\n",
    "        \n",
    "print(*d)"
   ]
  }
 ],
 "metadata": {
  "kernelspec": {
   "display_name": "Python 3",
   "language": "python",
   "name": "python3"
  },
  "language_info": {
   "codemirror_mode": {
    "name": "ipython",
    "version": 3
   },
   "file_extension": ".py",
   "mimetype": "text/x-python",
   "name": "python",
   "nbconvert_exporter": "python",
   "pygments_lexer": "ipython3",
   "version": "3.7.6"
  }
 },
 "nbformat": 4,
 "nbformat_minor": 4
}
