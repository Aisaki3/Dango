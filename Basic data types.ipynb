{
 "cells": [
  {
   "cell_type": "code",
   "execution_count": null,
   "metadata": {},
   "outputs": [],
   "source": [
    "# List comprehensions\n",
    "\n",
    "if __name__ == '__main__':\n",
    "    x = int(input())\n",
    "    y = int(input())\n",
    "    z = int(input())\n",
    "    n = int(input())\n",
    "coordinates = [[i,j,k] for i in range(x+1) for j in range(y+1) for k in range(z+1) if i+j+k != n]\n",
    "print(coordinates)"
   ]
  },
  {
   "cell_type": "code",
   "execution_count": null,
   "metadata": {},
   "outputs": [],
   "source": [
    "# Find the Runner-Up score!\n",
    "\n",
    "if __name__ == '__main__':\n",
    "    n = int(input())\n",
    "    arr = map(int, input().split())\n",
    "champion = list(arr)\n",
    "runnerup = []\n",
    "for x in champion:\n",
    "    if x < max(champion):\n",
    "        runnerup.append(x)\n",
    "    else:\n",
    "        pass\n",
    "print(max(runnerup))"
   ]
  },
  {
   "cell_type": "code",
   "execution_count": null,
   "metadata": {},
   "outputs": [],
   "source": [
    "# Nested Lists\n",
    "\n",
    "if __name__ == '__main__':\n",
    "    studenti = []\n",
    "    for _ in range(int(input())):\n",
    "        name = input()\n",
    "        score = float(input())\n",
    "        studenti.append([name,score])\n",
    "\n",
    "studenti_2 = []\n",
    "for x in studenti:\n",
    "    if x[1] == min(studenti, key=lambda x:x[1])[1]:\n",
    "        continue\n",
    "    else:\n",
    "         studenti_2.append(x)\n",
    "\n",
    "studenti_3 = []\n",
    "for y in studenti_2:\n",
    "    if y[1] == min(studenti_2, key=lambda x:x[1])[1]:\n",
    "        studenti_3.append(y)\n",
    "    else:\n",
    "        continue\n",
    "\n",
    "reslist = [z[0] for z in studenti_3]\n",
    "reslist.sort()\n",
    "for a in reslist:\n",
    "    print(a)"
   ]
  },
  {
   "cell_type": "code",
   "execution_count": null,
   "metadata": {},
   "outputs": [],
   "source": [
    "# Finding the percentage\n",
    "\n",
    "if __name__ == '__main__':\n",
    "    n = int(input())\n",
    "    student_marks = {}\n",
    "    for _ in range(n):\n",
    "        name, *line = input().split()\n",
    "        scores = list(map(float, line))\n",
    "        student_marks[name] = scores\n",
    "    query_name = input()\n",
    "num_to_round = sum(student_marks[query_name])/len(student_marks[query_name])\n",
    "print(\"%.2f\" % num_to_round)"
   ]
  },
  {
   "cell_type": "code",
   "execution_count": null,
   "metadata": {},
   "outputs": [],
   "source": [
    "# Tuples\n",
    "\n",
    "num_elem = input()\n",
    "tuple_hash = tuple(map(int, input().split()))\n",
    "print(hash(tuple_hash))"
   ]
  }
 ],
 "metadata": {
  "kernelspec": {
   "display_name": "Python 3",
   "language": "python",
   "name": "python3"
  },
  "language_info": {
   "codemirror_mode": {
    "name": "ipython",
    "version": 3
   },
   "file_extension": ".py",
   "mimetype": "text/x-python",
   "name": "python",
   "nbconvert_exporter": "python",
   "pygments_lexer": "ipython3",
   "version": "3.7.6"
  }
 },
 "nbformat": 4,
 "nbformat_minor": 4
}
