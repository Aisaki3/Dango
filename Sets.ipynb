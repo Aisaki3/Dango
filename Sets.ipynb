{
 "cells": [
  {
   "cell_type": "code",
   "execution_count": null,
   "metadata": {},
   "outputs": [],
   "source": [
    "# Introduction to sets\n",
    "\n",
    "def average(array):\n",
    "    a = sum(set(arr))/len(set(arr))\n",
    "    return(\"%.3f\" % a)\n",
    "\n",
    "if __name__ == '__main__':\n",
    "    n = int(input())\n",
    "    arr = list(map(int, input().split()))\n",
    "    result = average(arr)\n",
    "    print(result)"
   ]
  },
  {
   "cell_type": "code",
   "execution_count": null,
   "metadata": {},
   "outputs": [],
   "source": [
    "# Set.add()\n",
    "\n",
    "my_set = set()\n",
    "num = int(input())\n",
    "for k in range(num):\n",
    "    my_set.add(input())\n",
    "print(len(my_set))"
   ]
  },
  {
   "cell_type": "code",
   "execution_count": null,
   "metadata": {},
   "outputs": [],
   "source": [
    "# Set.symmetric_difference()Operation\n",
    "\n",
    "l1 = int(input())\n",
    "set1 = set(input().split())\n",
    "l2 = int(input())\n",
    "set2 = set(input().split())\n",
    "print(len(set1.symmetric_difference(set2)))"
   ]
  },
  {
   "cell_type": "code",
   "execution_count": null,
   "metadata": {},
   "outputs": [],
   "source": [
    "# Set.difference() Operation\n",
    "\n",
    "l1 = int(input())\n",
    "set1 = set(input().split())\n",
    "l2 = int(input())\n",
    "set2 = set(input().split())\n",
    "print(len(set1.difference(set2)))"
   ]
  }
 ],
 "metadata": {
  "kernelspec": {
   "display_name": "Python 3",
   "language": "python",
   "name": "python3"
  },
  "language_info": {
   "codemirror_mode": {
    "name": "ipython",
    "version": 3
   },
   "file_extension": ".py",
   "mimetype": "text/x-python",
   "name": "python",
   "nbconvert_exporter": "python",
   "pygments_lexer": "ipython3",
   "version": "3.7.6"
  }
 },
 "nbformat": 4,
 "nbformat_minor": 4
}
