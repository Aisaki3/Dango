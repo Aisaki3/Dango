{
 "cells": [
  {
   "cell_type": "code",
   "execution_count": null,
   "metadata": {},
   "outputs": [],
   "source": [
    "# Integers come in all sizes\n",
    "\n",
    "num_1 = int(input())\n",
    "num_2 = int(input())\n",
    "num_3 = int(input())\n",
    "num_4 = int(input())\n",
    "oper = num_1**num_2 + num_3**num_4\n",
    "print(oper)"
   ]
  },
  {
   "cell_type": "code",
   "execution_count": null,
   "metadata": {},
   "outputs": [],
   "source": [
    "# Polar coordinates\n",
    "\n",
    "import cmath\n",
    "my_num = complex(input())\n",
    "my_pol = cmath.polar(my_num)\n",
    "print(my_pol[0])\n",
    "print(my_pol[1])"
   ]
  },
  {
   "cell_type": "code",
   "execution_count": null,
   "metadata": {},
   "outputs": [],
   "source": [
    "# Power - Mod power\n",
    "\n",
    "n1 = int(input())\n",
    "n2 = int(input())\n",
    "mod = int(input())\n",
    "print(pow(n1,n2))\n",
    "print(pow(n1,n2,mod))"
   ]
  },
  {
   "cell_type": "code",
   "execution_count": null,
   "metadata": {},
   "outputs": [],
   "source": [
    "# Mod Divmod\n",
    "\n",
    "n1 = int(input())\n",
    "n2 = int(input())\n",
    "print(n1//n2)\n",
    "print(n1%n2)\n",
    "print(divmod(n1,n2))"
   ]
  }
 ],
 "metadata": {
  "kernelspec": {
   "display_name": "Python 3",
   "language": "python",
   "name": "python3"
  },
  "language_info": {
   "codemirror_mode": {
    "name": "ipython",
    "version": 3
   },
   "file_extension": ".py",
   "mimetype": "text/x-python",
   "name": "python",
   "nbconvert_exporter": "python",
   "pygments_lexer": "ipython3",
   "version": "3.7.6"
  }
 },
 "nbformat": 4,
 "nbformat_minor": 4
}
