{
 "cells": [
  {
   "cell_type": "code",
   "execution_count": null,
   "metadata": {},
   "outputs": [],
   "source": [
    "#1 Solve me first\n",
    "\n",
    "def solveMeFirst(a,b):\n",
    "    return(a+b)"
   ]
  },
  {
   "cell_type": "code",
   "execution_count": null,
   "metadata": {},
   "outputs": [],
   "source": [
    "#2 Simple array sum\n",
    "\n",
    "def simpleArraySum(ar):\n",
    "    return(sum(ar))"
   ]
  },
  {
   "cell_type": "code",
   "execution_count": null,
   "metadata": {},
   "outputs": [],
   "source": [
    "#3 Compare the triplets\n",
    "\n",
    "def compareTriplets(a, b):\n",
    "    l = [0, 0]\n",
    "    for i in range(len(a)):\n",
    "        if a[i] < b[i]:\n",
    "            l[1] += 1\n",
    "        elif a[i] > b[i]:\n",
    "            l[0] += 1\n",
    "    return(l)"
   ]
  },
  {
   "cell_type": "code",
   "execution_count": null,
   "metadata": {},
   "outputs": [],
   "source": [
    "#4 A very big sum\n",
    "\n",
    "def aVeryBigSum(ar):\n",
    "    return(sum(ar))"
   ]
  },
  {
   "cell_type": "code",
   "execution_count": null,
   "metadata": {},
   "outputs": [],
   "source": [
    "#5 Diagonal difference\n",
    "\n",
    "def diagonalDifference(arr):\n",
    "    a,b = [],[]\n",
    "    for i in range(len(arr)):\n",
    "        a.append(arr[i][i])\n",
    "        b.append(arr[i][int(len(arr))-1-i])\n",
    "    return(abs(sum(a)-sum(b)))"
   ]
  },
  {
   "cell_type": "code",
   "execution_count": null,
   "metadata": {},
   "outputs": [],
   "source": [
    "#6 Plus Minus\n",
    "\n",
    "def plusMinus(arr):\n",
    "    a,b,c = 0,0,0\n",
    "    for k in arr:\n",
    "        if k > 0:\n",
    "            a += 1\n",
    "        elif k < 0:\n",
    "            b += 1\n",
    "        else:\n",
    "            c += 1\n",
    "    print(\"{:.6f}\".format(a / int(len(arr))))\n",
    "    print(\"{:.6f}\".format(b / int(len(arr))))\n",
    "    print(\"{:.6f}\".format(c / int(len(arr))))"
   ]
  },
  {
   "cell_type": "code",
   "execution_count": null,
   "metadata": {},
   "outputs": [],
   "source": [
    "#7 Staircase\n",
    "\n",
    "def staircase(n):\n",
    "    for i in range(n):\n",
    "        print(' '*(n-1-i)+'#'*(i+1))"
   ]
  },
  {
   "cell_type": "code",
   "execution_count": null,
   "metadata": {},
   "outputs": [],
   "source": [
    "#8 Min-Max-Sum\n",
    "\n",
    "def miniMaxSum(arr):\n",
    "    ma = 0\n",
    "    mi = sum(arr)\n",
    "    for i in range(len(arr)):\n",
    "        mat = sum(arr)-arr[i]\n",
    "        if mat > ma:\n",
    "            ma = mat\n",
    "    for i in range(len(arr)):\n",
    "        mit = sum(arr)-arr[i]\n",
    "        if mit < mi:\n",
    "            mi = mit\n",
    "    print(mi, ma)"
   ]
  },
  {
   "cell_type": "code",
   "execution_count": null,
   "metadata": {},
   "outputs": [],
   "source": [
    "#9 Birthday cake\n",
    "\n",
    "def birthdayCakeCandles(candles):\n",
    "    return(candles.count(max(candles)))"
   ]
  },
  {
   "cell_type": "code",
   "execution_count": null,
   "metadata": {},
   "outputs": [],
   "source": [
    "#10 Time conversion\n",
    "\n",
    "def timeConversion(s):\n",
    "    s_split = s.split(\":\")\n",
    "    if 'PM' in s:\n",
    "        if s_split[0] == '12':\n",
    "            pass\n",
    "        else:\n",
    "            s_split[0] = str(int(s_split[0])+12)\n",
    "        s_split[2] = s_split[2].strip('PM')\n",
    "    else:\n",
    "        if s_split[0] == '12':\n",
    "            s_split[0] = '00'\n",
    "        s_split[2] = s_split[2].strip('AM')\n",
    "\n",
    "    time_str = f\"{s_split[0]}:{s_split[1]}:{s_split[2]}\"\n",
    "    return(time_str)"
   ]
  }
 ],
 "metadata": {
  "kernelspec": {
   "display_name": "Python 3 (ipykernel)",
   "language": "python",
   "name": "python3"
  },
  "language_info": {
   "codemirror_mode": {
    "name": "ipython",
    "version": 3
   },
   "file_extension": ".py",
   "mimetype": "text/x-python",
   "name": "python",
   "nbconvert_exporter": "python",
   "pygments_lexer": "ipython3",
   "version": "3.10.6"
  }
 },
 "nbformat": 4,
 "nbformat_minor": 4
}
