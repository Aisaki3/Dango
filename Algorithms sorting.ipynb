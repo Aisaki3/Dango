{
 "cells": [
  {
   "cell_type": "code",
   "execution_count": null,
   "metadata": {},
   "outputs": [],
   "source": [
    "#1 Intro to tutorial challanges\n",
    "\n",
    "def introTutorial(V, arr):\n",
    "    return(arr.index(V))"
   ]
  },
  {
   "cell_type": "code",
   "execution_count": null,
   "metadata": {},
   "outputs": [],
   "source": [
    "#2 Insertion sort pt.1\n",
    "\n",
    "def insertionSort1(n, arr):\n",
    "    a = arr[-1:]\n",
    "    a = a[0]\n",
    "    for i in range(len(arr)):\n",
    "        if n == i+1:\n",
    "            arr[0] = a\n",
    "            print(\" \".join(map(str,arr)))\n",
    "            break\n",
    "        elif a < arr[n-i-2]:\n",
    "            arr[n-i-1] = arr[n-i-2]\n",
    "            print(\" \".join(map(str,arr)))\n",
    "        else:\n",
    "            arr[n-i-1] = a\n",
    "            print(\" \".join(map(str,arr)))\n",
    "            break"
   ]
  },
  {
   "cell_type": "code",
   "execution_count": null,
   "metadata": {},
   "outputs": [],
   "source": [
    "#3 Insertion sort pt.2\n",
    "\n",
    "def insertionSort2(n, arr):\n",
    "    for i in range(1,len(arr)):\n",
    "        for j in range(0,i):\n",
    "            if arr[i] < arr[j]:\n",
    "                aj = arr[j]\n",
    "                ai = arr[i]\n",
    "                arr[i] = aj\n",
    "                arr[j] = ai\n",
    "        print(\" \".join(map(str,arr)))"
   ]
  },
  {
   "cell_type": "code",
   "execution_count": null,
   "metadata": {},
   "outputs": [],
   "source": [
    "#4 Correctedness of the loop invariant\n",
    "\n",
    "def insertion_sort(l):\n",
    "    for i in range(1, len(l)):\n",
    "        j = i-1\n",
    "        key = l[i]\n",
    "        while (j >= 0) and (l[j] > key):\n",
    "           l[j+1] = l[j]\n",
    "           j -= 1\n",
    "        l[j+1] = key"
   ]
  },
  {
   "cell_type": "code",
   "execution_count": null,
   "metadata": {},
   "outputs": [],
   "source": [
    "#5 Running time of algorithms\n",
    "\n",
    "def runningTime(arr):\n",
    "    a = 0\n",
    "    for i in range(1,len(arr)):\n",
    "        for j in range(0,i):\n",
    "            if arr[i] < arr[j]:\n",
    "                arr.insert(j,(arr.pop(i)))\n",
    "                a += i-j\n",
    "    return(a)"
   ]
  },
  {
   "cell_type": "code",
   "execution_count": null,
   "metadata": {},
   "outputs": [],
   "source": [
    "#6 Quicksort 1 - Partition\n",
    "\n",
    "def quickSort(arr):\n",
    "    c,l,r,a = [],[],[],[]\n",
    "    c.append(arr[0])\n",
    "    for i in range(1,len(arr)):\n",
    "        if arr[i] > arr[0]:\n",
    "            r.append(arr[i])\n",
    "        elif arr[i] < arr[0]:\n",
    "            l.append(arr[i])\n",
    "    for x in l:\n",
    "        a.append(x)\n",
    "    for x in c:\n",
    "        a.append(x)\n",
    "    for x in r:\n",
    "        a.append(x)\n",
    "    return(a)"
   ]
  },
  {
   "cell_type": "code",
   "execution_count": null,
   "metadata": {},
   "outputs": [],
   "source": [
    "#7 Counting sort 1\n",
    "\n",
    "def countingSort(arr):\n",
    "    a = [0] * 100\n",
    "    for i in range(len(arr)):\n",
    "        a[arr[i]] += 1\n",
    "    return(a)"
   ]
  },
  {
   "cell_type": "code",
   "execution_count": null,
   "metadata": {},
   "outputs": [],
   "source": [
    "#8 Counting sort 2\n",
    "\n",
    "def countingSort(arr):\n",
    "    a = [0] * 100\n",
    "    for i in range(len(arr)):\n",
    "        a[arr[i]] += 1\n",
    "    b = []\n",
    "    for i in range(max(arr)+1):\n",
    "        for j in range(a[i]):\n",
    "            b.append(i)\n",
    "    return(b)"
   ]
  },
  {
   "cell_type": "code",
   "execution_count": null,
   "metadata": {},
   "outputs": [],
   "source": [
    "#9 Closest numbers\n",
    "\n",
    "def closestNumbers(arr):\n",
    "    arr.sort()\n",
    "    a = []\n",
    "    mi = max(arr)-min(arr)\n",
    "    for i in range(1,len(arr)):\n",
    "            if arr[i]-arr[i-1] < mi:\n",
    "                mi = arr[i]-arr[i-1]\n",
    "                a = []\n",
    "                a.extend([arr[i-1], arr[i]])\n",
    "            elif arr[i]-arr[i-1] == mi:\n",
    "                mi = arr[i]-arr[i-1]\n",
    "                a.extend([arr[i-1], arr[i]])\n",
    "            else:\n",
    "                pass\n",
    "    return(a)"
   ]
  },
  {
   "cell_type": "code",
   "execution_count": null,
   "metadata": {},
   "outputs": [],
   "source": [
    "#10 Find the median\n",
    "\n",
    "def findMedian(arr):\n",
    "    arr_s = sorted(arr)\n",
    "    a = arr_s[len(arr_s) // 2]\n",
    "    return(a)"
   ]
  }
 ],
 "metadata": {
  "kernelspec": {
   "display_name": "Python 3",
   "language": "python",
   "name": "python3"
  },
  "language_info": {
   "codemirror_mode": {
    "name": "ipython",
    "version": 3
   },
   "file_extension": ".py",
   "mimetype": "text/x-python",
   "name": "python",
   "nbconvert_exporter": "python",
   "pygments_lexer": "ipython3",
   "version": "3.7.6"
  }
 },
 "nbformat": 4,
 "nbformat_minor": 4
}
